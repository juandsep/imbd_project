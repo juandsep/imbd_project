{
  "nbformat": 4,
  "nbformat_minor": 0,
  "metadata": {
    "colab": {
      "name": "imbd.ipynb",
      "provenance": [],
      "collapsed_sections": []
    },
    "kernelspec": {
      "name": "python3",
      "display_name": "Python 3"
    }
  },
  "cells": [
    {
      "cell_type": "code",
      "metadata": {
        "id": "OigySUlpQInZ",
        "colab_type": "code",
        "colab": {}
      },
      "source": [
        "#cargar librerias\n",
        "import json\n",
        "import numpy as np\n",
        "import pandas as pd\n",
        "from pandas import DataFrame\n",
        "pd.options.display.float_format = '{:.2f}'.format\n",
        "import seaborn as sns\n",
        "from collections import Counter\n",
        "import matplotlib.pyplot as plt\n",
        "% matplotlib inline"
      ],
      "execution_count": 0,
      "outputs": []
    },
    {
      "cell_type": "code",
      "metadata": {
        "id": "wT_gCSRnaUWs",
        "colab_type": "code",
        "colab": {
          "resources": {
            "http://localhost:8080/nbextensions/google.colab/files.js": {
              "data": "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",
              "ok": true,
              "headers": [
                [
                  "content-type",
                  "application/javascript"
                ]
              ],
              "status": 200,
              "status_text": ""
            }
          },
          "base_uri": "https://localhost:8080/",
          "height": 108
        },
        "outputId": "4d76b076-e7de-444c-b14b-a4280e0429bc"
      },
      "source": [
        "#Carga de archivo a colab\n",
        "from google.colab import files\n",
        "uploaded = files.upload()\n",
        "import io"
      ],
      "execution_count": 104,
      "outputs": [
        {
          "output_type": "display_data",
          "data": {
            "text/html": [
              "\n",
              "     <input type=\"file\" id=\"files-4220489c-6ec1-4928-be3d-727d97c52515\" name=\"files[]\" multiple disabled />\n",
              "     <output id=\"result-4220489c-6ec1-4928-be3d-727d97c52515\">\n",
              "      Upload widget is only available when the cell has been executed in the\n",
              "      current browser session. Please rerun this cell to enable.\n",
              "      </output>\n",
              "      <script src=\"/nbextensions/google.colab/files.js\"></script> "
            ],
            "text/plain": [
              "<IPython.core.display.HTML object>"
            ]
          },
          "metadata": {
            "tags": []
          }
        },
        {
          "output_type": "stream",
          "text": [
            "Saving tmdb_5000_credits.csv to tmdb_5000_credits (2).csv\n",
            "Saving tmdb_5000_movies.csv to tmdb_5000_movies (1).csv\n"
          ],
          "name": "stdout"
        }
      ]
    },
    {
      "cell_type": "code",
      "metadata": {
        "id": "0wdCBq4kbL5Y",
        "colab_type": "code",
        "outputId": "baca0cd2-3b3e-4b90-d59c-60b46b08ecfe",
        "colab": {
          "base_uri": "https://localhost:8080/",
          "height": 77
        }
      },
      "source": [
        "#Cargar y revisar data\n",
        "credits = pd.read_csv(io.BytesIO(uploaded[\"tmdb_5000_credits.csv\"]))\n",
        "movies = pd.read_csv(io.BytesIO(uploaded['tmdb_5000_movies.csv']))\n",
        "credits.head(1)"
      ],
      "execution_count": 105,
      "outputs": [
        {
          "output_type": "execute_result",
          "data": {
            "text/html": [
              "<div>\n",
              "<style scoped>\n",
              "    .dataframe tbody tr th:only-of-type {\n",
              "        vertical-align: middle;\n",
              "    }\n",
              "\n",
              "    .dataframe tbody tr th {\n",
              "        vertical-align: top;\n",
              "    }\n",
              "\n",
              "    .dataframe thead th {\n",
              "        text-align: right;\n",
              "    }\n",
              "</style>\n",
              "<table border=\"1\" class=\"dataframe\">\n",
              "  <thead>\n",
              "    <tr style=\"text-align: right;\">\n",
              "      <th></th>\n",
              "      <th>movie_id</th>\n",
              "      <th>title</th>\n",
              "      <th>cast</th>\n",
              "      <th>crew</th>\n",
              "    </tr>\n",
              "  </thead>\n",
              "  <tbody>\n",
              "    <tr>\n",
              "      <th>0</th>\n",
              "      <td>19995</td>\n",
              "      <td>Avatar</td>\n",
              "      <td>[{\"cast_id\": 242, \"character\": \"Jake Sully\", \"...</td>\n",
              "      <td>[{\"credit_id\": \"52fe48009251416c750aca23\", \"de...</td>\n",
              "    </tr>\n",
              "  </tbody>\n",
              "</table>\n",
              "</div>"
            ],
            "text/plain": [
              "   movie_id  ...                                               crew\n",
              "0     19995  ...  [{\"credit_id\": \"52fe48009251416c750aca23\", \"de...\n",
              "\n",
              "[1 rows x 4 columns]"
            ]
          },
          "metadata": {
            "tags": []
          },
          "execution_count": 105
        }
      ]
    },
    {
      "cell_type": "code",
      "metadata": {
        "id": "XlNd0n3wTyvM",
        "colab_type": "code",
        "outputId": "6d7d356a-38ee-4c56-a112-74b8638ea9ec",
        "colab": {
          "base_uri": "https://localhost:8080/",
          "height": 181
        }
      },
      "source": [
        "#los dataset ahora esta guardado\n",
        "movies.head(1)"
      ],
      "execution_count": 106,
      "outputs": [
        {
          "output_type": "execute_result",
          "data": {
            "text/html": [
              "<div>\n",
              "<style scoped>\n",
              "    .dataframe tbody tr th:only-of-type {\n",
              "        vertical-align: middle;\n",
              "    }\n",
              "\n",
              "    .dataframe tbody tr th {\n",
              "        vertical-align: top;\n",
              "    }\n",
              "\n",
              "    .dataframe thead th {\n",
              "        text-align: right;\n",
              "    }\n",
              "</style>\n",
              "<table border=\"1\" class=\"dataframe\">\n",
              "  <thead>\n",
              "    <tr style=\"text-align: right;\">\n",
              "      <th></th>\n",
              "      <th>budget</th>\n",
              "      <th>genres</th>\n",
              "      <th>homepage</th>\n",
              "      <th>id</th>\n",
              "      <th>keywords</th>\n",
              "      <th>original_language</th>\n",
              "      <th>original_title</th>\n",
              "      <th>overview</th>\n",
              "      <th>popularity</th>\n",
              "      <th>production_companies</th>\n",
              "      <th>production_countries</th>\n",
              "      <th>release_date</th>\n",
              "      <th>revenue</th>\n",
              "      <th>runtime</th>\n",
              "      <th>spoken_languages</th>\n",
              "      <th>status</th>\n",
              "      <th>tagline</th>\n",
              "      <th>title</th>\n",
              "      <th>vote_average</th>\n",
              "      <th>vote_count</th>\n",
              "    </tr>\n",
              "  </thead>\n",
              "  <tbody>\n",
              "    <tr>\n",
              "      <th>0</th>\n",
              "      <td>237000000</td>\n",
              "      <td>[{\"id\": 28, \"name\": \"Action\"}, {\"id\": 12, \"nam...</td>\n",
              "      <td>http://www.avatarmovie.com/</td>\n",
              "      <td>19995</td>\n",
              "      <td>[{\"id\": 1463, \"name\": \"culture clash\"}, {\"id\":...</td>\n",
              "      <td>en</td>\n",
              "      <td>Avatar</td>\n",
              "      <td>In the 22nd century, a paraplegic Marine is di...</td>\n",
              "      <td>150.44</td>\n",
              "      <td>[{\"name\": \"Ingenious Film Partners\", \"id\": 289...</td>\n",
              "      <td>[{\"iso_3166_1\": \"US\", \"name\": \"United States o...</td>\n",
              "      <td>2009-12-10</td>\n",
              "      <td>2787965087</td>\n",
              "      <td>162.00</td>\n",
              "      <td>[{\"iso_639_1\": \"en\", \"name\": \"English\"}, {\"iso...</td>\n",
              "      <td>Released</td>\n",
              "      <td>Enter the World of Pandora.</td>\n",
              "      <td>Avatar</td>\n",
              "      <td>7.20</td>\n",
              "      <td>11800</td>\n",
              "    </tr>\n",
              "  </tbody>\n",
              "</table>\n",
              "</div>"
            ],
            "text/plain": [
              "      budget  ... vote_count\n",
              "0  237000000  ...      11800\n",
              "\n",
              "[1 rows x 20 columns]"
            ]
          },
          "metadata": {
            "tags": []
          },
          "execution_count": 106
        }
      ]
    },
    {
      "cell_type": "code",
      "metadata": {
        "id": "1dm8Zf71UdGZ",
        "colab_type": "code",
        "colab": {}
      },
      "source": [
        "#tratamiento de data para credits\n",
        "#json data\n",
        "json_fields = ['cast', 'crew']\n",
        "for field in json_fields:\n",
        "  credits[field] = credits[field].apply(lambda data: [row['name'] for row in json.loads(data)])"
      ],
      "execution_count": 0,
      "outputs": []
    },
    {
      "cell_type": "code",
      "metadata": {
        "id": "2KZH6uoKZbVQ",
        "colab_type": "code",
        "outputId": "451bce41-52f9-4406-a375-eb9471142e72",
        "colab": {
          "base_uri": "https://localhost:8080/",
          "height": 77
        }
      },
      "source": [
        "credits.head(1)"
      ],
      "execution_count": 108,
      "outputs": [
        {
          "output_type": "execute_result",
          "data": {
            "text/html": [
              "<div>\n",
              "<style scoped>\n",
              "    .dataframe tbody tr th:only-of-type {\n",
              "        vertical-align: middle;\n",
              "    }\n",
              "\n",
              "    .dataframe tbody tr th {\n",
              "        vertical-align: top;\n",
              "    }\n",
              "\n",
              "    .dataframe thead th {\n",
              "        text-align: right;\n",
              "    }\n",
              "</style>\n",
              "<table border=\"1\" class=\"dataframe\">\n",
              "  <thead>\n",
              "    <tr style=\"text-align: right;\">\n",
              "      <th></th>\n",
              "      <th>movie_id</th>\n",
              "      <th>title</th>\n",
              "      <th>cast</th>\n",
              "      <th>crew</th>\n",
              "    </tr>\n",
              "  </thead>\n",
              "  <tbody>\n",
              "    <tr>\n",
              "      <th>0</th>\n",
              "      <td>19995</td>\n",
              "      <td>Avatar</td>\n",
              "      <td>[Sam Worthington, Zoe Saldana, Sigourney Weave...</td>\n",
              "      <td>[Stephen E. Rivkin, Rick Carter, Christopher B...</td>\n",
              "    </tr>\n",
              "  </tbody>\n",
              "</table>\n",
              "</div>"
            ],
            "text/plain": [
              "   movie_id  ...                                               crew\n",
              "0     19995  ...  [Stephen E. Rivkin, Rick Carter, Christopher B...\n",
              "\n",
              "[1 rows x 4 columns]"
            ]
          },
          "metadata": {
            "tags": []
          },
          "execution_count": 108
        }
      ]
    },
    {
      "cell_type": "code",
      "metadata": {
        "id": "0ts8f1TUVur2",
        "colab_type": "code",
        "colab": {}
      },
      "source": [
        "#tratamiendo de data para movies\n",
        "#json data\n",
        "json_fields = ['genres', 'production_companies', 'production_countries', 'spoken_languages', 'keywords']\n",
        "for field in json_fields:\n",
        "  movies[field] = movies[field].apply(lambda data: [row['name'] for row in json.loads(data)])"
      ],
      "execution_count": 0,
      "outputs": []
    },
    {
      "cell_type": "code",
      "metadata": {
        "id": "L0APRtQubjTd",
        "colab_type": "code",
        "outputId": "cf5a30da-ab02-4a6d-bb92-9ee8234141f1",
        "colab": {
          "base_uri": "https://localhost:8080/",
          "height": 198
        }
      },
      "source": [
        "movies.head(1)"
      ],
      "execution_count": 110,
      "outputs": [
        {
          "output_type": "execute_result",
          "data": {
            "text/html": [
              "<div>\n",
              "<style scoped>\n",
              "    .dataframe tbody tr th:only-of-type {\n",
              "        vertical-align: middle;\n",
              "    }\n",
              "\n",
              "    .dataframe tbody tr th {\n",
              "        vertical-align: top;\n",
              "    }\n",
              "\n",
              "    .dataframe thead th {\n",
              "        text-align: right;\n",
              "    }\n",
              "</style>\n",
              "<table border=\"1\" class=\"dataframe\">\n",
              "  <thead>\n",
              "    <tr style=\"text-align: right;\">\n",
              "      <th></th>\n",
              "      <th>budget</th>\n",
              "      <th>genres</th>\n",
              "      <th>homepage</th>\n",
              "      <th>id</th>\n",
              "      <th>keywords</th>\n",
              "      <th>original_language</th>\n",
              "      <th>original_title</th>\n",
              "      <th>overview</th>\n",
              "      <th>popularity</th>\n",
              "      <th>production_companies</th>\n",
              "      <th>production_countries</th>\n",
              "      <th>release_date</th>\n",
              "      <th>revenue</th>\n",
              "      <th>runtime</th>\n",
              "      <th>spoken_languages</th>\n",
              "      <th>status</th>\n",
              "      <th>tagline</th>\n",
              "      <th>title</th>\n",
              "      <th>vote_average</th>\n",
              "      <th>vote_count</th>\n",
              "    </tr>\n",
              "  </thead>\n",
              "  <tbody>\n",
              "    <tr>\n",
              "      <th>0</th>\n",
              "      <td>237000000</td>\n",
              "      <td>[Action, Adventure, Fantasy, Science Fiction]</td>\n",
              "      <td>http://www.avatarmovie.com/</td>\n",
              "      <td>19995</td>\n",
              "      <td>[culture clash, future, space war, space colon...</td>\n",
              "      <td>en</td>\n",
              "      <td>Avatar</td>\n",
              "      <td>In the 22nd century, a paraplegic Marine is di...</td>\n",
              "      <td>150.44</td>\n",
              "      <td>[Ingenious Film Partners, Twentieth Century Fo...</td>\n",
              "      <td>[United States of America, United Kingdom]</td>\n",
              "      <td>2009-12-10</td>\n",
              "      <td>2787965087</td>\n",
              "      <td>162.00</td>\n",
              "      <td>[English, Español]</td>\n",
              "      <td>Released</td>\n",
              "      <td>Enter the World of Pandora.</td>\n",
              "      <td>Avatar</td>\n",
              "      <td>7.20</td>\n",
              "      <td>11800</td>\n",
              "    </tr>\n",
              "  </tbody>\n",
              "</table>\n",
              "</div>"
            ],
            "text/plain": [
              "      budget  ... vote_count\n",
              "0  237000000  ...      11800\n",
              "\n",
              "[1 rows x 20 columns]"
            ]
          },
          "metadata": {
            "tags": []
          },
          "execution_count": 110
        }
      ]
    },
    {
      "cell_type": "code",
      "metadata": {
        "id": "a48Zqcs2ckvu",
        "colab_type": "code",
        "outputId": "9614b833-2918-4513-c07f-c7deacc1b4f0",
        "colab": {
          "base_uri": "https://localhost:8080/",
          "height": 437
        }
      },
      "source": [
        "#revisar info data y valores nulos\n",
        "movies.info()"
      ],
      "execution_count": 111,
      "outputs": [
        {
          "output_type": "stream",
          "text": [
            "<class 'pandas.core.frame.DataFrame'>\n",
            "RangeIndex: 4803 entries, 0 to 4802\n",
            "Data columns (total 20 columns):\n",
            "budget                  4803 non-null int64\n",
            "genres                  4803 non-null object\n",
            "homepage                1712 non-null object\n",
            "id                      4803 non-null int64\n",
            "keywords                4803 non-null object\n",
            "original_language       4803 non-null object\n",
            "original_title          4803 non-null object\n",
            "overview                4800 non-null object\n",
            "popularity              4803 non-null float64\n",
            "production_companies    4803 non-null object\n",
            "production_countries    4803 non-null object\n",
            "release_date            4802 non-null object\n",
            "revenue                 4803 non-null int64\n",
            "runtime                 4801 non-null float64\n",
            "spoken_languages        4803 non-null object\n",
            "status                  4803 non-null object\n",
            "tagline                 3959 non-null object\n",
            "title                   4803 non-null object\n",
            "vote_average            4803 non-null float64\n",
            "vote_count              4803 non-null int64\n",
            "dtypes: float64(3), int64(4), object(13)\n",
            "memory usage: 750.6+ KB\n"
          ],
          "name": "stdout"
        }
      ]
    },
    {
      "cell_type": "code",
      "metadata": {
        "id": "N24tPCQQe8Hj",
        "colab_type": "code",
        "outputId": "e4484cc5-cb99-4abb-8a89-572d42a85653",
        "colab": {
          "base_uri": "https://localhost:8080/",
          "height": 284
        }
      },
      "source": [
        "movies.describe()\n",
        "#hay valores atipicos, como en pop, pero son \"normales\"\n",
        "#zero values"
      ],
      "execution_count": 112,
      "outputs": [
        {
          "output_type": "execute_result",
          "data": {
            "text/html": [
              "<div>\n",
              "<style scoped>\n",
              "    .dataframe tbody tr th:only-of-type {\n",
              "        vertical-align: middle;\n",
              "    }\n",
              "\n",
              "    .dataframe tbody tr th {\n",
              "        vertical-align: top;\n",
              "    }\n",
              "\n",
              "    .dataframe thead th {\n",
              "        text-align: right;\n",
              "    }\n",
              "</style>\n",
              "<table border=\"1\" class=\"dataframe\">\n",
              "  <thead>\n",
              "    <tr style=\"text-align: right;\">\n",
              "      <th></th>\n",
              "      <th>budget</th>\n",
              "      <th>id</th>\n",
              "      <th>popularity</th>\n",
              "      <th>revenue</th>\n",
              "      <th>runtime</th>\n",
              "      <th>vote_average</th>\n",
              "      <th>vote_count</th>\n",
              "    </tr>\n",
              "  </thead>\n",
              "  <tbody>\n",
              "    <tr>\n",
              "      <th>count</th>\n",
              "      <td>4803.00</td>\n",
              "      <td>4803.00</td>\n",
              "      <td>4803.00</td>\n",
              "      <td>4803.00</td>\n",
              "      <td>4801.00</td>\n",
              "      <td>4803.00</td>\n",
              "      <td>4803.00</td>\n",
              "    </tr>\n",
              "    <tr>\n",
              "      <th>mean</th>\n",
              "      <td>29045039.88</td>\n",
              "      <td>57165.48</td>\n",
              "      <td>21.49</td>\n",
              "      <td>82260638.65</td>\n",
              "      <td>106.88</td>\n",
              "      <td>6.09</td>\n",
              "      <td>690.22</td>\n",
              "    </tr>\n",
              "    <tr>\n",
              "      <th>std</th>\n",
              "      <td>40722391.26</td>\n",
              "      <td>88694.61</td>\n",
              "      <td>31.82</td>\n",
              "      <td>162857100.94</td>\n",
              "      <td>22.61</td>\n",
              "      <td>1.19</td>\n",
              "      <td>1234.59</td>\n",
              "    </tr>\n",
              "    <tr>\n",
              "      <th>min</th>\n",
              "      <td>0.00</td>\n",
              "      <td>5.00</td>\n",
              "      <td>0.00</td>\n",
              "      <td>0.00</td>\n",
              "      <td>0.00</td>\n",
              "      <td>0.00</td>\n",
              "      <td>0.00</td>\n",
              "    </tr>\n",
              "    <tr>\n",
              "      <th>25%</th>\n",
              "      <td>790000.00</td>\n",
              "      <td>9014.50</td>\n",
              "      <td>4.67</td>\n",
              "      <td>0.00</td>\n",
              "      <td>94.00</td>\n",
              "      <td>5.60</td>\n",
              "      <td>54.00</td>\n",
              "    </tr>\n",
              "    <tr>\n",
              "      <th>50%</th>\n",
              "      <td>15000000.00</td>\n",
              "      <td>14629.00</td>\n",
              "      <td>12.92</td>\n",
              "      <td>19170001.00</td>\n",
              "      <td>103.00</td>\n",
              "      <td>6.20</td>\n",
              "      <td>235.00</td>\n",
              "    </tr>\n",
              "    <tr>\n",
              "      <th>75%</th>\n",
              "      <td>40000000.00</td>\n",
              "      <td>58610.50</td>\n",
              "      <td>28.31</td>\n",
              "      <td>92917187.00</td>\n",
              "      <td>118.00</td>\n",
              "      <td>6.80</td>\n",
              "      <td>737.00</td>\n",
              "    </tr>\n",
              "    <tr>\n",
              "      <th>max</th>\n",
              "      <td>380000000.00</td>\n",
              "      <td>459488.00</td>\n",
              "      <td>875.58</td>\n",
              "      <td>2787965087.00</td>\n",
              "      <td>338.00</td>\n",
              "      <td>10.00</td>\n",
              "      <td>13752.00</td>\n",
              "    </tr>\n",
              "  </tbody>\n",
              "</table>\n",
              "</div>"
            ],
            "text/plain": [
              "            budget        id  popularity  ...  runtime  vote_average  vote_count\n",
              "count      4803.00   4803.00     4803.00  ...  4801.00       4803.00     4803.00\n",
              "mean   29045039.88  57165.48       21.49  ...   106.88          6.09      690.22\n",
              "std    40722391.26  88694.61       31.82  ...    22.61          1.19     1234.59\n",
              "min           0.00      5.00        0.00  ...     0.00          0.00        0.00\n",
              "25%      790000.00   9014.50        4.67  ...    94.00          5.60       54.00\n",
              "50%    15000000.00  14629.00       12.92  ...   103.00          6.20      235.00\n",
              "75%    40000000.00  58610.50       28.31  ...   118.00          6.80      737.00\n",
              "max   380000000.00 459488.00      875.58  ...   338.00         10.00    13752.00\n",
              "\n",
              "[8 rows x 7 columns]"
            ]
          },
          "metadata": {
            "tags": []
          },
          "execution_count": 112
        }
      ]
    },
    {
      "cell_type": "code",
      "metadata": {
        "id": "Af2oCgg4xHSI",
        "colab_type": "code",
        "outputId": "d604de79-8444-4f98-90da-aedbc59a29bd",
        "colab": {
          "base_uri": "https://localhost:8080/",
          "height": 134
        }
      },
      "source": [
        "#contar valores en zero para presupuesto\n",
        "df = movies.groupby('budget').count()['id']\n",
        "df.head()\n",
        "#hay valores en cero"
      ],
      "execution_count": 113,
      "outputs": [
        {
          "output_type": "execute_result",
          "data": {
            "text/plain": [
              "budget\n",
              "0    1037\n",
              "1       7\n",
              "2       1\n",
              "3       1\n",
              "4       2\n",
              "Name: id, dtype: int64"
            ]
          },
          "metadata": {
            "tags": []
          },
          "execution_count": 113
        }
      ]
    },
    {
      "cell_type": "code",
      "metadata": {
        "id": "fBsNbHbRxIu1",
        "colab_type": "code",
        "outputId": "7de01883-f4f9-4189-b305-e34fc54e9045",
        "colab": {
          "base_uri": "https://localhost:8080/",
          "height": 134
        }
      },
      "source": [
        "#contar valores en zero para presupuesto\n",
        "df = movies.groupby('revenue').count()['id']\n",
        "df.head()\n",
        "#hay valores en cero"
      ],
      "execution_count": 114,
      "outputs": [
        {
          "output_type": "execute_result",
          "data": {
            "text/plain": [
              "revenue\n",
              "0     1427\n",
              "5        1\n",
              "7        2\n",
              "10       1\n",
              "11       2\n",
              "Name: id, dtype: int64"
            ]
          },
          "metadata": {
            "tags": []
          },
          "execution_count": 114
        }
      ]
    },
    {
      "cell_type": "code",
      "metadata": {
        "id": "qimC7nCH2HJF",
        "colab_type": "code",
        "colab": {}
      },
      "source": [
        "#covertir data y ceros\n",
        "#movies.drop_duplicates(keep='first', inplace=True)\n",
        "cols = ['budget', 'revenue']\n",
        "movies[cols] = movies[cols].applymap(np.int64)\n",
        "movies[cols] = movies[cols].replace(0, np.nan)\n",
        "movies.dropna(subset=cols, inplace=True)\n",
        "#eliminando los valores en cero"
      ],
      "execution_count": 0,
      "outputs": []
    },
    {
      "cell_type": "code",
      "metadata": {
        "id": "oHsSAVWt3b7R",
        "colab_type": "code",
        "colab": {}
      },
      "source": [
        "#asignar formato fechas y calcular año de lanzamiento\n",
        "movies.release_date = pd.to_datetime(movies['release_date'])\n",
        "movies['release_year'] = movies['release_date'].dt.year\n",
        "movies['release_month'] = movies['release_date'].dt.month"
      ],
      "execution_count": 0,
      "outputs": []
    },
    {
      "cell_type": "code",
      "metadata": {
        "id": "MV5UrvAMfSqq",
        "colab_type": "code",
        "colab": {}
      },
      "source": [
        "#crear variables: beneficios\n",
        "movies['profit'] = movies['revenue'] - movies['budget']\n",
        "\n",
        "def format_number_for_axis(value, tick_number):\n",
        "  if np.abs(value) >= 1000000000:\n",
        "    return \"{0}B\".format(value / 1000000000)\n",
        "  elif np.abs(value) >= 1000000:\n",
        "    return \"{0}M\".format(value / 1000000)\n",
        "  else:\n",
        "    return value"
      ],
      "execution_count": 0,
      "outputs": []
    },
    {
      "cell_type": "code",
      "metadata": {
        "id": "DfITUUUF_yN4",
        "colab_type": "code",
        "outputId": "5ab624fc-b2eb-4304-c1bc-05076bcc287a",
        "colab": {
          "base_uri": "https://localhost:8080/",
          "height": 343
        }
      },
      "source": [
        "#10 primeras peliculas con mayor presupuesto\n",
        "movies[['title', 'budget', 'release_year']].sort_values(by='budget', ascending=False).head(n=10)"
      ],
      "execution_count": 0,
      "outputs": [
        {
          "output_type": "execute_result",
          "data": {
            "text/html": [
              "<div>\n",
              "<style scoped>\n",
              "    .dataframe tbody tr th:only-of-type {\n",
              "        vertical-align: middle;\n",
              "    }\n",
              "\n",
              "    .dataframe tbody tr th {\n",
              "        vertical-align: top;\n",
              "    }\n",
              "\n",
              "    .dataframe thead th {\n",
              "        text-align: right;\n",
              "    }\n",
              "</style>\n",
              "<table border=\"1\" class=\"dataframe\">\n",
              "  <thead>\n",
              "    <tr style=\"text-align: right;\">\n",
              "      <th></th>\n",
              "      <th>title</th>\n",
              "      <th>budget</th>\n",
              "      <th>release_year</th>\n",
              "    </tr>\n",
              "  </thead>\n",
              "  <tbody>\n",
              "    <tr>\n",
              "      <th>17</th>\n",
              "      <td>Pirates of the Caribbean: On Stranger Tides</td>\n",
              "      <td>380000000.00</td>\n",
              "      <td>2011</td>\n",
              "    </tr>\n",
              "    <tr>\n",
              "      <th>1</th>\n",
              "      <td>Pirates of the Caribbean: At World's End</td>\n",
              "      <td>300000000.00</td>\n",
              "      <td>2007</td>\n",
              "    </tr>\n",
              "    <tr>\n",
              "      <th>7</th>\n",
              "      <td>Avengers: Age of Ultron</td>\n",
              "      <td>280000000.00</td>\n",
              "      <td>2015</td>\n",
              "    </tr>\n",
              "    <tr>\n",
              "      <th>10</th>\n",
              "      <td>Superman Returns</td>\n",
              "      <td>270000000.00</td>\n",
              "      <td>2006</td>\n",
              "    </tr>\n",
              "    <tr>\n",
              "      <th>4</th>\n",
              "      <td>John Carter</td>\n",
              "      <td>260000000.00</td>\n",
              "      <td>2012</td>\n",
              "    </tr>\n",
              "    <tr>\n",
              "      <th>6</th>\n",
              "      <td>Tangled</td>\n",
              "      <td>260000000.00</td>\n",
              "      <td>2010</td>\n",
              "    </tr>\n",
              "    <tr>\n",
              "      <th>5</th>\n",
              "      <td>Spider-Man 3</td>\n",
              "      <td>258000000.00</td>\n",
              "      <td>2007</td>\n",
              "    </tr>\n",
              "    <tr>\n",
              "      <th>13</th>\n",
              "      <td>The Lone Ranger</td>\n",
              "      <td>255000000.00</td>\n",
              "      <td>2013</td>\n",
              "    </tr>\n",
              "    <tr>\n",
              "      <th>98</th>\n",
              "      <td>The Hobbit: An Unexpected Journey</td>\n",
              "      <td>250000000.00</td>\n",
              "      <td>2012</td>\n",
              "    </tr>\n",
              "    <tr>\n",
              "      <th>26</th>\n",
              "      <td>Captain America: Civil War</td>\n",
              "      <td>250000000.00</td>\n",
              "      <td>2016</td>\n",
              "    </tr>\n",
              "  </tbody>\n",
              "</table>\n",
              "</div>"
            ],
            "text/plain": [
              "                                          title       budget  release_year\n",
              "17  Pirates of the Caribbean: On Stranger Tides 380000000.00          2011\n",
              "1      Pirates of the Caribbean: At World's End 300000000.00          2007\n",
              "7                       Avengers: Age of Ultron 280000000.00          2015\n",
              "10                             Superman Returns 270000000.00          2006\n",
              "4                                   John Carter 260000000.00          2012\n",
              "6                                       Tangled 260000000.00          2010\n",
              "5                                  Spider-Man 3 258000000.00          2007\n",
              "13                              The Lone Ranger 255000000.00          2013\n",
              "98            The Hobbit: An Unexpected Journey 250000000.00          2012\n",
              "26                   Captain America: Civil War 250000000.00          2016"
            ]
          },
          "metadata": {
            "tags": []
          },
          "execution_count": 23
        }
      ]
    },
    {
      "cell_type": "code",
      "metadata": {
        "id": "zpdr7h2JerLs",
        "colab_type": "code",
        "outputId": "00f9489e-5dcd-4941-8b7b-f391cb66feb9",
        "colab": {
          "base_uri": "https://localhost:8080/",
          "height": 343
        }
      },
      "source": [
        "#10 primeras peliculas con mayor ingreso\n",
        "movies[['title', 'revenue', 'release_year']].sort_values(by='revenue', ascending=False).head(n=10)"
      ],
      "execution_count": 0,
      "outputs": [
        {
          "output_type": "execute_result",
          "data": {
            "text/html": [
              "<div>\n",
              "<style scoped>\n",
              "    .dataframe tbody tr th:only-of-type {\n",
              "        vertical-align: middle;\n",
              "    }\n",
              "\n",
              "    .dataframe tbody tr th {\n",
              "        vertical-align: top;\n",
              "    }\n",
              "\n",
              "    .dataframe thead th {\n",
              "        text-align: right;\n",
              "    }\n",
              "</style>\n",
              "<table border=\"1\" class=\"dataframe\">\n",
              "  <thead>\n",
              "    <tr style=\"text-align: right;\">\n",
              "      <th></th>\n",
              "      <th>title</th>\n",
              "      <th>revenue</th>\n",
              "      <th>release_year</th>\n",
              "    </tr>\n",
              "  </thead>\n",
              "  <tbody>\n",
              "    <tr>\n",
              "      <th>0</th>\n",
              "      <td>Avatar</td>\n",
              "      <td>2787965087.00</td>\n",
              "      <td>2009</td>\n",
              "    </tr>\n",
              "    <tr>\n",
              "      <th>25</th>\n",
              "      <td>Titanic</td>\n",
              "      <td>1845034188.00</td>\n",
              "      <td>1997</td>\n",
              "    </tr>\n",
              "    <tr>\n",
              "      <th>16</th>\n",
              "      <td>The Avengers</td>\n",
              "      <td>1519557910.00</td>\n",
              "      <td>2012</td>\n",
              "    </tr>\n",
              "    <tr>\n",
              "      <th>28</th>\n",
              "      <td>Jurassic World</td>\n",
              "      <td>1513528810.00</td>\n",
              "      <td>2015</td>\n",
              "    </tr>\n",
              "    <tr>\n",
              "      <th>44</th>\n",
              "      <td>Furious 7</td>\n",
              "      <td>1506249360.00</td>\n",
              "      <td>2015</td>\n",
              "    </tr>\n",
              "    <tr>\n",
              "      <th>7</th>\n",
              "      <td>Avengers: Age of Ultron</td>\n",
              "      <td>1405403694.00</td>\n",
              "      <td>2015</td>\n",
              "    </tr>\n",
              "    <tr>\n",
              "      <th>124</th>\n",
              "      <td>Frozen</td>\n",
              "      <td>1274219009.00</td>\n",
              "      <td>2013</td>\n",
              "    </tr>\n",
              "    <tr>\n",
              "      <th>31</th>\n",
              "      <td>Iron Man 3</td>\n",
              "      <td>1215439994.00</td>\n",
              "      <td>2013</td>\n",
              "    </tr>\n",
              "    <tr>\n",
              "      <th>546</th>\n",
              "      <td>Minions</td>\n",
              "      <td>1156730962.00</td>\n",
              "      <td>2015</td>\n",
              "    </tr>\n",
              "    <tr>\n",
              "      <th>26</th>\n",
              "      <td>Captain America: Civil War</td>\n",
              "      <td>1153304495.00</td>\n",
              "      <td>2016</td>\n",
              "    </tr>\n",
              "  </tbody>\n",
              "</table>\n",
              "</div>"
            ],
            "text/plain": [
              "                          title       revenue  release_year\n",
              "0                        Avatar 2787965087.00          2009\n",
              "25                      Titanic 1845034188.00          1997\n",
              "16                 The Avengers 1519557910.00          2012\n",
              "28               Jurassic World 1513528810.00          2015\n",
              "44                    Furious 7 1506249360.00          2015\n",
              "7       Avengers: Age of Ultron 1405403694.00          2015\n",
              "124                      Frozen 1274219009.00          2013\n",
              "31                   Iron Man 3 1215439994.00          2013\n",
              "546                     Minions 1156730962.00          2015\n",
              "26   Captain America: Civil War 1153304495.00          2016"
            ]
          },
          "metadata": {
            "tags": []
          },
          "execution_count": 27
        }
      ]
    },
    {
      "cell_type": "code",
      "metadata": {
        "id": "4pNPLGw_8REa",
        "colab_type": "code",
        "outputId": "9f18053c-38bb-4039-e786-46c185b90195",
        "colab": {
          "base_uri": "https://localhost:8080/",
          "height": 343
        }
      },
      "source": [
        "#10 primeras peliculas mas rentables\n",
        "movies[['title', 'profit', 'release_year']].sort_values(by='profit', ascending=False).head(n=10)"
      ],
      "execution_count": 0,
      "outputs": [
        {
          "output_type": "execute_result",
          "data": {
            "text/html": [
              "<div>\n",
              "<style scoped>\n",
              "    .dataframe tbody tr th:only-of-type {\n",
              "        vertical-align: middle;\n",
              "    }\n",
              "\n",
              "    .dataframe tbody tr th {\n",
              "        vertical-align: top;\n",
              "    }\n",
              "\n",
              "    .dataframe thead th {\n",
              "        text-align: right;\n",
              "    }\n",
              "</style>\n",
              "<table border=\"1\" class=\"dataframe\">\n",
              "  <thead>\n",
              "    <tr style=\"text-align: right;\">\n",
              "      <th></th>\n",
              "      <th>title</th>\n",
              "      <th>profit</th>\n",
              "      <th>release_year</th>\n",
              "    </tr>\n",
              "  </thead>\n",
              "  <tbody>\n",
              "    <tr>\n",
              "      <th>0</th>\n",
              "      <td>Avatar</td>\n",
              "      <td>2550965087.00</td>\n",
              "      <td>2009</td>\n",
              "    </tr>\n",
              "    <tr>\n",
              "      <th>25</th>\n",
              "      <td>Titanic</td>\n",
              "      <td>1645034188.00</td>\n",
              "      <td>1997</td>\n",
              "    </tr>\n",
              "    <tr>\n",
              "      <th>28</th>\n",
              "      <td>Jurassic World</td>\n",
              "      <td>1363528810.00</td>\n",
              "      <td>2015</td>\n",
              "    </tr>\n",
              "    <tr>\n",
              "      <th>44</th>\n",
              "      <td>Furious 7</td>\n",
              "      <td>1316249360.00</td>\n",
              "      <td>2015</td>\n",
              "    </tr>\n",
              "    <tr>\n",
              "      <th>16</th>\n",
              "      <td>The Avengers</td>\n",
              "      <td>1299557910.00</td>\n",
              "      <td>2012</td>\n",
              "    </tr>\n",
              "    <tr>\n",
              "      <th>7</th>\n",
              "      <td>Avengers: Age of Ultron</td>\n",
              "      <td>1125403694.00</td>\n",
              "      <td>2015</td>\n",
              "    </tr>\n",
              "    <tr>\n",
              "      <th>124</th>\n",
              "      <td>Frozen</td>\n",
              "      <td>1124219009.00</td>\n",
              "      <td>2013</td>\n",
              "    </tr>\n",
              "    <tr>\n",
              "      <th>546</th>\n",
              "      <td>Minions</td>\n",
              "      <td>1082730962.00</td>\n",
              "      <td>2015</td>\n",
              "    </tr>\n",
              "    <tr>\n",
              "      <th>329</th>\n",
              "      <td>The Lord of the Rings: The Return of the King</td>\n",
              "      <td>1024888979.00</td>\n",
              "      <td>2003</td>\n",
              "    </tr>\n",
              "    <tr>\n",
              "      <th>31</th>\n",
              "      <td>Iron Man 3</td>\n",
              "      <td>1015439994.00</td>\n",
              "      <td>2013</td>\n",
              "    </tr>\n",
              "  </tbody>\n",
              "</table>\n",
              "</div>"
            ],
            "text/plain": [
              "                                             title        profit  release_year\n",
              "0                                           Avatar 2550965087.00          2009\n",
              "25                                         Titanic 1645034188.00          1997\n",
              "28                                  Jurassic World 1363528810.00          2015\n",
              "44                                       Furious 7 1316249360.00          2015\n",
              "16                                    The Avengers 1299557910.00          2012\n",
              "7                          Avengers: Age of Ultron 1125403694.00          2015\n",
              "124                                         Frozen 1124219009.00          2013\n",
              "546                                        Minions 1082730962.00          2015\n",
              "329  The Lord of the Rings: The Return of the King 1024888979.00          2003\n",
              "31                                      Iron Man 3 1015439994.00          2013"
            ]
          },
          "metadata": {
            "tags": []
          },
          "execution_count": 24
        }
      ]
    },
    {
      "cell_type": "code",
      "metadata": {
        "id": "3Ejim8ER8-kl",
        "colab_type": "code",
        "outputId": "f465dfb5-432a-44b5-e4b6-4e5916c82d4c",
        "colab": {
          "base_uri": "https://localhost:8080/",
          "height": 343
        }
      },
      "source": [
        "#10 ultimas peliculas\n",
        "movies[['title', 'profit', 'release_year']].sort_values(by='profit', ascending=True).head(n=10)"
      ],
      "execution_count": 0,
      "outputs": [
        {
          "output_type": "execute_result",
          "data": {
            "text/html": [
              "<div>\n",
              "<style scoped>\n",
              "    .dataframe tbody tr th:only-of-type {\n",
              "        vertical-align: middle;\n",
              "    }\n",
              "\n",
              "    .dataframe tbody tr th {\n",
              "        vertical-align: top;\n",
              "    }\n",
              "\n",
              "    .dataframe thead th {\n",
              "        text-align: right;\n",
              "    }\n",
              "</style>\n",
              "<table border=\"1\" class=\"dataframe\">\n",
              "  <thead>\n",
              "    <tr style=\"text-align: right;\">\n",
              "      <th></th>\n",
              "      <th>title</th>\n",
              "      <th>profit</th>\n",
              "      <th>release_year</th>\n",
              "    </tr>\n",
              "  </thead>\n",
              "  <tbody>\n",
              "    <tr>\n",
              "      <th>13</th>\n",
              "      <td>The Lone Ranger</td>\n",
              "      <td>-165710090.00</td>\n",
              "      <td>2013</td>\n",
              "    </tr>\n",
              "    <tr>\n",
              "      <th>338</th>\n",
              "      <td>The Alamo</td>\n",
              "      <td>-119180039.00</td>\n",
              "      <td>2004</td>\n",
              "    </tr>\n",
              "    <tr>\n",
              "      <th>141</th>\n",
              "      <td>Mars Needs Moms</td>\n",
              "      <td>-111007242.00</td>\n",
              "      <td>2011</td>\n",
              "    </tr>\n",
              "    <tr>\n",
              "      <th>208</th>\n",
              "      <td>The 13th Warrior</td>\n",
              "      <td>-98301101.00</td>\n",
              "      <td>1999</td>\n",
              "    </tr>\n",
              "    <tr>\n",
              "      <th>311</th>\n",
              "      <td>The Adventures of Pluto Nash</td>\n",
              "      <td>-92896027.00</td>\n",
              "      <td>2002</td>\n",
              "    </tr>\n",
              "    <tr>\n",
              "      <th>2638</th>\n",
              "      <td>Metropolis</td>\n",
              "      <td>-91969578.00</td>\n",
              "      <td>1927</td>\n",
              "    </tr>\n",
              "    <tr>\n",
              "      <th>340</th>\n",
              "      <td>Cutthroat Island</td>\n",
              "      <td>-87982678.00</td>\n",
              "      <td>1995</td>\n",
              "    </tr>\n",
              "    <tr>\n",
              "      <th>142</th>\n",
              "      <td>Flushed Away</td>\n",
              "      <td>-84540684.00</td>\n",
              "      <td>2006</td>\n",
              "    </tr>\n",
              "    <tr>\n",
              "      <th>192</th>\n",
              "      <td>Australia</td>\n",
              "      <td>-80445998.00</td>\n",
              "      <td>2008</td>\n",
              "    </tr>\n",
              "    <tr>\n",
              "      <th>272</th>\n",
              "      <td>Town &amp; Country</td>\n",
              "      <td>-79627709.00</td>\n",
              "      <td>2001</td>\n",
              "    </tr>\n",
              "  </tbody>\n",
              "</table>\n",
              "</div>"
            ],
            "text/plain": [
              "                             title        profit  release_year\n",
              "13                 The Lone Ranger -165710090.00          2013\n",
              "338                      The Alamo -119180039.00          2004\n",
              "141                Mars Needs Moms -111007242.00          2011\n",
              "208               The 13th Warrior  -98301101.00          1999\n",
              "311   The Adventures of Pluto Nash  -92896027.00          2002\n",
              "2638                    Metropolis  -91969578.00          1927\n",
              "340               Cutthroat Island  -87982678.00          1995\n",
              "142                   Flushed Away  -84540684.00          2006\n",
              "192                      Australia  -80445998.00          2008\n",
              "272                 Town & Country  -79627709.00          2001"
            ]
          },
          "metadata": {
            "tags": []
          },
          "execution_count": 28
        }
      ]
    },
    {
      "cell_type": "code",
      "metadata": {
        "id": "_TyN4iRhtIA0",
        "colab_type": "code",
        "outputId": "0adf1e98-694e-43ac-d43e-3fd642ee0126",
        "colab": {
          "base_uri": "https://localhost:8080/",
          "height": 343
        }
      },
      "source": [
        "#10 peliculas populares\n",
        "movies[['title', 'popularity', 'release_year']].sort_values(by='popularity', ascending=False).head(n=10)"
      ],
      "execution_count": 0,
      "outputs": [
        {
          "output_type": "execute_result",
          "data": {
            "text/html": [
              "<div>\n",
              "<style scoped>\n",
              "    .dataframe tbody tr th:only-of-type {\n",
              "        vertical-align: middle;\n",
              "    }\n",
              "\n",
              "    .dataframe tbody tr th {\n",
              "        vertical-align: top;\n",
              "    }\n",
              "\n",
              "    .dataframe thead th {\n",
              "        text-align: right;\n",
              "    }\n",
              "</style>\n",
              "<table border=\"1\" class=\"dataframe\">\n",
              "  <thead>\n",
              "    <tr style=\"text-align: right;\">\n",
              "      <th></th>\n",
              "      <th>title</th>\n",
              "      <th>popularity</th>\n",
              "      <th>release_year</th>\n",
              "    </tr>\n",
              "  </thead>\n",
              "  <tbody>\n",
              "    <tr>\n",
              "      <th>546</th>\n",
              "      <td>Minions</td>\n",
              "      <td>875.58</td>\n",
              "      <td>2015</td>\n",
              "    </tr>\n",
              "    <tr>\n",
              "      <th>95</th>\n",
              "      <td>Interstellar</td>\n",
              "      <td>724.25</td>\n",
              "      <td>2014</td>\n",
              "    </tr>\n",
              "    <tr>\n",
              "      <th>788</th>\n",
              "      <td>Deadpool</td>\n",
              "      <td>514.57</td>\n",
              "      <td>2016</td>\n",
              "    </tr>\n",
              "    <tr>\n",
              "      <th>94</th>\n",
              "      <td>Guardians of the Galaxy</td>\n",
              "      <td>481.10</td>\n",
              "      <td>2014</td>\n",
              "    </tr>\n",
              "    <tr>\n",
              "      <th>127</th>\n",
              "      <td>Mad Max: Fury Road</td>\n",
              "      <td>434.28</td>\n",
              "      <td>2015</td>\n",
              "    </tr>\n",
              "    <tr>\n",
              "      <th>28</th>\n",
              "      <td>Jurassic World</td>\n",
              "      <td>418.71</td>\n",
              "      <td>2015</td>\n",
              "    </tr>\n",
              "    <tr>\n",
              "      <th>199</th>\n",
              "      <td>Pirates of the Caribbean: The Curse of the Bla...</td>\n",
              "      <td>271.97</td>\n",
              "      <td>2003</td>\n",
              "    </tr>\n",
              "    <tr>\n",
              "      <th>82</th>\n",
              "      <td>Dawn of the Planet of the Apes</td>\n",
              "      <td>243.79</td>\n",
              "      <td>2014</td>\n",
              "    </tr>\n",
              "    <tr>\n",
              "      <th>200</th>\n",
              "      <td>The Hunger Games: Mockingjay - Part 1</td>\n",
              "      <td>206.23</td>\n",
              "      <td>2014</td>\n",
              "    </tr>\n",
              "    <tr>\n",
              "      <th>88</th>\n",
              "      <td>Big Hero 6</td>\n",
              "      <td>203.73</td>\n",
              "      <td>2014</td>\n",
              "    </tr>\n",
              "  </tbody>\n",
              "</table>\n",
              "</div>"
            ],
            "text/plain": [
              "                                                 title  ...  release_year\n",
              "546                                            Minions  ...          2015\n",
              "95                                        Interstellar  ...          2014\n",
              "788                                           Deadpool  ...          2016\n",
              "94                             Guardians of the Galaxy  ...          2014\n",
              "127                                 Mad Max: Fury Road  ...          2015\n",
              "28                                      Jurassic World  ...          2015\n",
              "199  Pirates of the Caribbean: The Curse of the Bla...  ...          2003\n",
              "82                      Dawn of the Planet of the Apes  ...          2014\n",
              "200              The Hunger Games: Mockingjay - Part 1  ...          2014\n",
              "88                                          Big Hero 6  ...          2014\n",
              "\n",
              "[10 rows x 3 columns]"
            ]
          },
          "metadata": {
            "tags": []
          },
          "execution_count": 35
        }
      ]
    },
    {
      "cell_type": "code",
      "metadata": {
        "id": "Fag9hdhzGqMb",
        "colab_type": "code",
        "outputId": "8e42831f-64fc-406d-8268-2146d89eac93",
        "colab": {
          "base_uri": "https://localhost:8080/",
          "height": 394
        }
      },
      "source": [
        "plt.subplots(figsize=(10, 6))\n",
        "plt.hist(movies['popularity'], 30, facecolor=sns.color_palette(\"Blues\")[4], alpha=0.75)\n",
        "plt.title(\"Popularity Histogram\", fontsize=18)\n",
        "plt.show()"
      ],
      "execution_count": 0,
      "outputs": [
        {
          "output_type": "display_data",
          "data": {
            "image/png": "[encoded data removed]",
            "text/plain": [
              "<Figure size 720x432 with 1 Axes>"
            ]
          },
          "metadata": {
            "tags": []
          }
        }
      ]
    },
    {
      "cell_type": "code",
      "metadata": {
        "id": "o9rY5yYQtrDC",
        "colab_type": "code",
        "outputId": "1f05de15-f15f-43c5-e3bb-c3cd4673c10c",
        "colab": {
          "base_uri": "https://localhost:8080/",
          "height": 360
        }
      },
      "source": [
        "#10 peliculas populares\n",
        "movies[['title', 'popularity', 'release_year']].sort_values(by='popularity', ascending=True).head(n=10)"
      ],
      "execution_count": 0,
      "outputs": [
        {
          "output_type": "execute_result",
          "data": {
            "text/html": [
              "<div>\n",
              "<style scoped>\n",
              "    .dataframe tbody tr th:only-of-type {\n",
              "        vertical-align: middle;\n",
              "    }\n",
              "\n",
              "    .dataframe tbody tr th {\n",
              "        vertical-align: top;\n",
              "    }\n",
              "\n",
              "    .dataframe thead th {\n",
              "        text-align: right;\n",
              "    }\n",
              "</style>\n",
              "<table border=\"1\" class=\"dataframe\">\n",
              "  <thead>\n",
              "    <tr style=\"text-align: right;\">\n",
              "      <th></th>\n",
              "      <th>title</th>\n",
              "      <th>popularity</th>\n",
              "      <th>release_year</th>\n",
              "    </tr>\n",
              "  </thead>\n",
              "  <tbody>\n",
              "    <tr>\n",
              "      <th>3921</th>\n",
              "      <td>Woman Thou Art Loosed</td>\n",
              "      <td>0.02</td>\n",
              "      <td>2004</td>\n",
              "    </tr>\n",
              "    <tr>\n",
              "      <th>4105</th>\n",
              "      <td>The Book of Mormon Movie, Volume 1: The Journey</td>\n",
              "      <td>0.03</td>\n",
              "      <td>2003</td>\n",
              "    </tr>\n",
              "    <tr>\n",
              "      <th>3225</th>\n",
              "      <td>Limbo</td>\n",
              "      <td>0.03</td>\n",
              "      <td>1999</td>\n",
              "    </tr>\n",
              "    <tr>\n",
              "      <th>2970</th>\n",
              "      <td>There Goes My Baby</td>\n",
              "      <td>0.04</td>\n",
              "      <td>1994</td>\n",
              "    </tr>\n",
              "    <tr>\n",
              "      <th>4065</th>\n",
              "      <td>Mi America</td>\n",
              "      <td>0.04</td>\n",
              "      <td>2015</td>\n",
              "    </tr>\n",
              "    <tr>\n",
              "      <th>3471</th>\n",
              "      <td>Dolphins and Whales: Tribes of the Ocean</td>\n",
              "      <td>0.04</td>\n",
              "      <td>2008</td>\n",
              "    </tr>\n",
              "    <tr>\n",
              "      <th>4371</th>\n",
              "      <td>Fiza</td>\n",
              "      <td>0.04</td>\n",
              "      <td>2000</td>\n",
              "    </tr>\n",
              "    <tr>\n",
              "      <th>3419</th>\n",
              "      <td>Bran Nue Dae</td>\n",
              "      <td>0.05</td>\n",
              "      <td>2009</td>\n",
              "    </tr>\n",
              "    <tr>\n",
              "      <th>4617</th>\n",
              "      <td>Ayurveda: Art of Being</td>\n",
              "      <td>0.06</td>\n",
              "      <td>2001</td>\n",
              "    </tr>\n",
              "    <tr>\n",
              "      <th>2303</th>\n",
              "      <td>The Nutcracker</td>\n",
              "      <td>0.07</td>\n",
              "      <td>1993</td>\n",
              "    </tr>\n",
              "  </tbody>\n",
              "</table>\n",
              "</div>"
            ],
            "text/plain": [
              "                                                title  popularity  release_year\n",
              "3921                            Woman Thou Art Loosed        0.02          2004\n",
              "4105  The Book of Mormon Movie, Volume 1: The Journey        0.03          2003\n",
              "3225                                            Limbo        0.03          1999\n",
              "2970                               There Goes My Baby        0.04          1994\n",
              "4065                                       Mi America        0.04          2015\n",
              "3471         Dolphins and Whales: Tribes of the Ocean        0.04          2008\n",
              "4371                                             Fiza        0.04          2000\n",
              "3419                                     Bran Nue Dae        0.05          2009\n",
              "4617                           Ayurveda: Art of Being        0.06          2001\n",
              "2303                                   The Nutcracker        0.07          1993"
            ]
          },
          "metadata": {
            "tags": []
          },
          "execution_count": 36
        }
      ]
    },
    {
      "cell_type": "code",
      "metadata": {
        "id": "3Cf_Ad1dS8F6",
        "colab_type": "code",
        "outputId": "3e080634-6aa8-4a77-baca-8a82663b30b8",
        "colab": {
          "base_uri": "https://localhost:8080/",
          "height": 166
        }
      },
      "source": [
        "#analisis de conrrelaciones entre algunas variables\n",
        "movies[['vote_average', 'popularity', 'runtime', 'profit']].corr()"
      ],
      "execution_count": 0,
      "outputs": [
        {
          "output_type": "execute_result",
          "data": {
            "text/html": [
              "<div>\n",
              "<style scoped>\n",
              "    .dataframe tbody tr th:only-of-type {\n",
              "        vertical-align: middle;\n",
              "    }\n",
              "\n",
              "    .dataframe tbody tr th {\n",
              "        vertical-align: top;\n",
              "    }\n",
              "\n",
              "    .dataframe thead th {\n",
              "        text-align: right;\n",
              "    }\n",
              "</style>\n",
              "<table border=\"1\" class=\"dataframe\">\n",
              "  <thead>\n",
              "    <tr style=\"text-align: right;\">\n",
              "      <th></th>\n",
              "      <th>vote_average</th>\n",
              "      <th>popularity</th>\n",
              "      <th>runtime</th>\n",
              "      <th>profit</th>\n",
              "    </tr>\n",
              "  </thead>\n",
              "  <tbody>\n",
              "    <tr>\n",
              "      <th>vote_average</th>\n",
              "      <td>1.00</td>\n",
              "      <td>0.29</td>\n",
              "      <td>0.38</td>\n",
              "      <td>0.23</td>\n",
              "    </tr>\n",
              "    <tr>\n",
              "      <th>popularity</th>\n",
              "      <td>0.29</td>\n",
              "      <td>1.00</td>\n",
              "      <td>0.18</td>\n",
              "      <td>0.59</td>\n",
              "    </tr>\n",
              "    <tr>\n",
              "      <th>runtime</th>\n",
              "      <td>0.38</td>\n",
              "      <td>0.18</td>\n",
              "      <td>1.00</td>\n",
              "      <td>0.21</td>\n",
              "    </tr>\n",
              "    <tr>\n",
              "      <th>profit</th>\n",
              "      <td>0.23</td>\n",
              "      <td>0.59</td>\n",
              "      <td>0.21</td>\n",
              "      <td>1.00</td>\n",
              "    </tr>\n",
              "  </tbody>\n",
              "</table>\n",
              "</div>"
            ],
            "text/plain": [
              "              vote_average  popularity  runtime  profit\n",
              "vote_average          1.00        0.29     0.38    0.23\n",
              "popularity            0.29        1.00     0.18    0.59\n",
              "runtime               0.38        0.18     1.00    0.21\n",
              "profit                0.23        0.59     0.21    1.00"
            ]
          },
          "metadata": {
            "tags": []
          },
          "execution_count": 29
        }
      ]
    },
    {
      "cell_type": "code",
      "metadata": {
        "id": "1NiuksC1gj_P",
        "colab_type": "code",
        "outputId": "da4e10fe-a388-43fc-a932-b1a96fb381bf",
        "colab": {
          "base_uri": "https://localhost:8080/",
          "height": 186
        }
      },
      "source": [
        "#covarianzas\n",
        "movies[['vote_average', 'popularity', 'runtime', 'profit']].cov()"
      ],
      "execution_count": 0,
      "outputs": [
        {
          "output_type": "execute_result",
          "data": {
            "text/html": [
              "<div>\n",
              "<style scoped>\n",
              "    .dataframe tbody tr th:only-of-type {\n",
              "        vertical-align: middle;\n",
              "    }\n",
              "\n",
              "    .dataframe tbody tr th {\n",
              "        vertical-align: top;\n",
              "    }\n",
              "\n",
              "    .dataframe thead th {\n",
              "        text-align: right;\n",
              "    }\n",
              "</style>\n",
              "<table border=\"1\" class=\"dataframe\">\n",
              "  <thead>\n",
              "    <tr style=\"text-align: right;\">\n",
              "      <th></th>\n",
              "      <th>vote_average</th>\n",
              "      <th>popularity</th>\n",
              "      <th>runtime</th>\n",
              "      <th>profit</th>\n",
              "    </tr>\n",
              "  </thead>\n",
              "  <tbody>\n",
              "    <tr>\n",
              "      <th>vote_average</th>\n",
              "      <td>0.76</td>\n",
              "      <td>9.07</td>\n",
              "      <td>6.94</td>\n",
              "      <td>31792668.09</td>\n",
              "    </tr>\n",
              "    <tr>\n",
              "      <th>popularity</th>\n",
              "      <td>9.07</td>\n",
              "      <td>1307.96</td>\n",
              "      <td>138.15</td>\n",
              "      <td>3364176223.57</td>\n",
              "    </tr>\n",
              "    <tr>\n",
              "      <th>runtime</th>\n",
              "      <td>6.94</td>\n",
              "      <td>138.15</td>\n",
              "      <td>439.56</td>\n",
              "      <td>696769729.12</td>\n",
              "    </tr>\n",
              "    <tr>\n",
              "      <th>profit</th>\n",
              "      <td>31792668.09</td>\n",
              "      <td>3364176223.57</td>\n",
              "      <td>696769729.12</td>\n",
              "      <td>25010773290193436.00</td>\n",
              "    </tr>\n",
              "  </tbody>\n",
              "</table>\n",
              "</div>"
            ],
            "text/plain": [
              "              vote_average    popularity      runtime               profit\n",
              "vote_average          0.76          9.07         6.94          31792668.09\n",
              "popularity            9.07       1307.96       138.15        3364176223.57\n",
              "runtime               6.94        138.15       439.56         696769729.12\n",
              "profit         31792668.09 3364176223.57 696769729.12 25010773290193436.00"
            ]
          },
          "metadata": {
            "tags": []
          },
          "execution_count": 30
        }
      ]
    },
    {
      "cell_type": "code",
      "metadata": {
        "id": "V6Ifc1VJqWMI",
        "colab_type": "code",
        "outputId": "58f10e06-b22f-4b0e-e279-71db5573aecf",
        "colab": {
          "base_uri": "https://localhost:8080/",
          "height": 394
        }
      },
      "source": [
        "#grafica> popularidad de generos\n",
        "plt.subplots(figsize=(10, 6))\n",
        "# Flatten the arrays of genres in each row\n",
        "genre_list = [genre for movie in movies['genres'] for genre in movie]\n",
        "# value_counts() returns sorted list. Reverse it to make item 1 of top 10 appear at top of chart\n",
        "genre_count_series = pd.Series(genre_list).value_counts()[:10].sort_values(ascending=True)\n",
        "ax = genre_count_series.plot.barh(width=0.9, color=sns.color_palette('Blues_d', 10))\n",
        "plt.title(\"Popular Genres\", fontsize=18)\n",
        "plt.show()"
      ],
      "execution_count": 0,
      "outputs": [
        {
          "output_type": "display_data",
          "data": {
            "image/png": "[encoded data removed]",
            "text/plain": [
              "<Figure size 720x432 with 1 Axes>"
            ]
          },
          "metadata": {
            "tags": []
          }
        }
      ]
    },
    {
      "cell_type": "code",
      "metadata": {
        "id": "8mjkvr_DreJc",
        "colab_type": "code",
        "outputId": "306324a3-309b-4082-ff6b-e84cc506f309",
        "colab": {
          "base_uri": "https://localhost:8080/",
          "height": 394
        }
      },
      "source": [
        "plt.subplots(figsize=(10, 6))\n",
        "plt.hist(movies['runtime'], 30, facecolor=sns.color_palette(\"Blues\")[4], alpha=0.75)\n",
        "plt.title(\"Runtime Histogram\", fontsize=18)\n",
        "plt.show()"
      ],
      "execution_count": 0,
      "outputs": [
        {
          "output_type": "display_data",
          "data": {
            "image/png": "[encoded data removed]",
            "text/plain": [
              "<Figure size 720x432 with 1 Axes>"
            ]
          },
          "metadata": {
            "tags": []
          }
        }
      ]
    },
    {
      "cell_type": "code",
      "metadata": {
        "id": "l0Ss_Pd1KvpT",
        "colab_type": "code",
        "colab": {
          "base_uri": "https://localhost:8080/",
          "height": 487
        },
        "outputId": "bcb958c8-261d-4078-c7c9-f0d4bdfdecae"
      },
      "source": [
        "movies.info()"
      ],
      "execution_count": 118,
      "outputs": [
        {
          "output_type": "stream",
          "text": [
            "<class 'pandas.core.frame.DataFrame'>\n",
            "Int64Index: 3229 entries, 0 to 4798\n",
            "Data columns (total 23 columns):\n",
            "budget                  3229 non-null float64\n",
            "genres                  3229 non-null object\n",
            "homepage                1347 non-null object\n",
            "id                      3229 non-null int64\n",
            "keywords                3229 non-null object\n",
            "original_language       3229 non-null object\n",
            "original_title          3229 non-null object\n",
            "overview                3229 non-null object\n",
            "popularity              3229 non-null float64\n",
            "production_companies    3229 non-null object\n",
            "production_countries    3229 non-null object\n",
            "release_date            3229 non-null datetime64[ns]\n",
            "revenue                 3229 non-null float64\n",
            "runtime                 3229 non-null float64\n",
            "spoken_languages        3229 non-null object\n",
            "status                  3229 non-null object\n",
            "tagline                 2984 non-null object\n",
            "title                   3229 non-null object\n",
            "vote_average            3229 non-null float64\n",
            "vote_count              3229 non-null int64\n",
            "release_year            3229 non-null int64\n",
            "release_month           3229 non-null int64\n",
            "profit                  3229 non-null float64\n",
            "dtypes: datetime64[ns](1), float64(6), int64(4), object(12)\n",
            "memory usage: 605.4+ KB\n"
          ],
          "name": "stdout"
        }
      ]
    },
    {
      "cell_type": "code",
      "metadata": {
        "id": "dy5mToHuDFA7",
        "colab_type": "code",
        "colab": {
          "base_uri": "https://localhost:8080/",
          "height": 134
        },
        "outputId": "54ef6cfe-638e-463d-b750-355edb9b6b4e"
      },
      "source": [
        "# compute the mean for popularity\n",
        "p_mean = movies.groupby('release_year').mean()['popularity']\n",
        "p_mean.tail()"
      ],
      "execution_count": 119,
      "outputs": [
        {
          "output_type": "execute_result",
          "data": {
            "text/plain": [
              "release_year\n",
              "2012   35.46\n",
              "2013   38.39\n",
              "2014   61.61\n",
              "2015   63.29\n",
              "2016   51.81\n",
              "Name: popularity, dtype: float64"
            ]
          },
          "metadata": {
            "tags": []
          },
          "execution_count": 119
        }
      ]
    },
    {
      "cell_type": "code",
      "metadata": {
        "id": "Mwgex99mJ0Ek",
        "colab_type": "code",
        "colab": {}
      },
      "source": [
        "# build the index location for x-axis\n",
        "index_mean = p_mean.index"
      ],
      "execution_count": 0,
      "outputs": []
    },
    {
      "cell_type": "code",
      "metadata": {
        "id": "bj6GPuqvHGHn",
        "colab_type": "code",
        "colab": {
          "base_uri": "https://localhost:8080/",
          "height": 295
        },
        "outputId": "03b570dc-f854-4e69-e4ff-8779eef71674"
      },
      "source": [
        "#set style\n",
        "sns.set_style('whitegrid')\n",
        "#set x, y axis data\n",
        "#x1, y1 for mean data; x2, y2 for median data\n",
        "x1, y1 = index_mean, p_mean\n",
        "#set size\n",
        "plt.figure(figsize=(9, 4))\n",
        "#plot line chart for mean and median\n",
        "plt.plot(x1, y1, label = 'mean')\n",
        "#set title and labels\n",
        "plt.title('Popularity Over Years')\n",
        "plt.xlabel('Year')\n",
        "plt.ylabel('Popularity');\n",
        "#set legend\n",
        "plt.legend(loc='upper left')\n",
        "plt.show()"
      ],
      "execution_count": 123,
      "outputs": [
        {
          "output_type": "display_data",
          "data": {
            "image/png": "[encoded data removed]",
            "text/plain": [
              "<Figure size 648x288 with 1 Axes>"
            ]
          },
          "metadata": {
            "tags": []
          }
        }
      ]
    }
  ]
}